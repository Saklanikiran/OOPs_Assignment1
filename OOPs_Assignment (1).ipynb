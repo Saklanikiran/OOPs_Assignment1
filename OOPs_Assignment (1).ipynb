{
 "cells": [
  {
   "cell_type": "code",
   "execution_count": 5,
   "id": "9ea1f0ba-f4d5-4113-9630-497316dc7e53",
   "metadata": {},
   "outputs": [
    {
     "name": "stdout",
     "output_type": "stream",
     "text": [
      "Cow is eating grass\n"
     ]
    }
   ],
   "source": [
    "# Ans:1\n",
    "\n",
    "# Class : A class is a collection of objects. It is a logical entity that contain some attribute and methods.\n",
    "\n",
    "# Object :  An Object is an instance of a Class. It is an entity that has a state and behavior associated with it.\n",
    "\n",
    "# An object consists of:\n",
    "# State: It is represented by the attributes of an object. It also reflects the properties of an object.\n",
    "# Behavior: It is represented by the methods of an object. It also reflects the response of an object to other objects.\n",
    "# Identity: It gives a unique name to an object and enables one object to interact with other objects.\n",
    "\n",
    "# Example:\n",
    " \n",
    "class Animal:    #creating class Animal\n",
    "    def __init__(self,name,color):\n",
    "        self.name=name\n",
    "        self.color=color\n",
    "    def eat(self,eat):   # animal class method eat\n",
    "        print(self.name ,\"is eating\",eat)\n",
    "cow=Animal(\"Cow\",'white')  # creating object of Animal class\n",
    "cow.eat('grass')   # call the method of Animal class\n"
   ]
  },
  {
   "cell_type": "code",
   "execution_count": 6,
   "id": "af157446-bf3d-43e2-8c14-4c1c7cd61291",
   "metadata": {},
   "outputs": [
    {
     "data": {
      "text/plain": [
       "'\\nFour pillars of OOPs :\\n1. Inheritance\\n2. Encapsulation\\n3. Polymorphism\\n4. Abstraction\\n'"
      ]
     },
     "execution_count": 6,
     "metadata": {},
     "output_type": "execute_result"
    }
   ],
   "source": [
    "# Ans:2\n",
    "'''\n",
    "Four pillars of OOPs :\n",
    "1. Inheritance\n",
    "2. Encapsulation\n",
    "3. Polymorphism\n",
    "4. Abstraction\n",
    "\n",
    "'''"
   ]
  },
  {
   "cell_type": "code",
   "execution_count": 7,
   "id": "0f842117-ab4e-4ba8-927f-6a9322c9bd10",
   "metadata": {},
   "outputs": [
    {
     "name": "stdout",
     "output_type": "stream",
     "text": [
      "name is Kiran and age is 20\n"
     ]
    }
   ],
   "source": [
    "# Ans:3\n",
    "'''\n",
    "__init__() : Used to initializing the object's state and  to initialize(assign values) to the data members of \n",
    "             the class when an object of the class is created.\n",
    "'''\n",
    "# Example :\n",
    "\n",
    "class myclass:\n",
    "    def __init__(self,name,age):   # __init__() method with two inputs name and age\n",
    "        self.name=name\n",
    "        self.age=age\n",
    "    def display_detail(self):\n",
    "        print(\"name is\",self.name,\"and age is\",self.age)\n",
    "obj=myclass('Kiran', 20)\n",
    "obj.display_detail()\n",
    "\n"
   ]
  },
  {
   "cell_type": "code",
   "execution_count": 8,
   "id": "6eb6cbf2-34da-4c91-ac48-867504cc0dfc",
   "metadata": {},
   "outputs": [
    {
     "data": {
      "text/plain": [
       "' \\nself is used to represent the instance of the class.\\nPython uses the self parameter to refer to instance attributes and methods of the class.\\n\\n'"
      ]
     },
     "execution_count": 8,
     "metadata": {},
     "output_type": "execute_result"
    }
   ],
   "source": [
    "# Ans:4\n",
    "''' \n",
    "self is used to represent the instance of the class.\n",
    "Python uses the self parameter to refer to instance attributes and methods of the class.\n",
    "\n",
    "'''"
   ]
  },
  {
   "cell_type": "code",
   "execution_count": 17,
   "id": "6957951b-309d-4671-976b-2e6de4b36f6f",
   "metadata": {},
   "outputs": [
    {
     "name": "stdout",
     "output_type": "stream",
     "text": [
      "this is child class\n",
      "this is parent class\n",
      "Father : Kamlakant\n",
      "Mother : Hema\n",
      "This function is in parent class.\n",
      "This function is in child 1.\n",
      "This function is in parent class.\n",
      "This function is in child 2.\n",
      "This function is in school.\n",
      "This function is in student 1. \n"
     ]
    }
   ],
   "source": [
    " # Ans:5\n",
    "'''\n",
    "Inheritance : Inheritance is a capability of one class to derive or inherit the properties from another class.\n",
    "\n",
    "It provides the reusability of a code. we don't have to write the same code again and again.\n",
    "'''\n",
    "# five types of inheritance in python:\n",
    "# Single inheritance\n",
    "# Multilevel inheritance\n",
    "# Hierarchical inheritance\n",
    "# Multiple inheritance \n",
    "# Hybrid inheritance\n",
    "\n",
    "# Example of single inheritance :\n",
    "\n",
    "class parent:\n",
    "    def show(self):\n",
    "        print(\"this is parent class\")\n",
    "class child(parent):\n",
    "    def show(self):\n",
    "        print(\"this is child class\")\n",
    "obj_child=child()\n",
    "obj_parent=parent()\n",
    "obj_child.show()\n",
    "obj_parent.show()\n",
    "\n",
    "# Example of multile inheritance :\n",
    "\n",
    " class Mother:\n",
    "    mothername = \"\"\n",
    " \n",
    "    def mother(self):\n",
    "        print(self.mothername)\n",
    " \n",
    "\n",
    " class Father:\n",
    "    fathername = \"\"\n",
    " \n",
    "    def father(self):\n",
    "        print(self.fathername)\n",
    " \n",
    "\n",
    " \n",
    " \n",
    " class Child(Mother, Father):\n",
    "    def parents(self,fathername,mothername):\n",
    "        print(\"Father :\", fathername)\n",
    "        print(\"Mother :\", mothername)\n",
    "\n",
    "s1 = Child()\n",
    "\n",
    "s1.parents(\"Kamlakant\",\"Hema\") \n",
    "\n",
    "# Example of hierarchical inheritance :\n",
    "class Parent:\n",
    "    def func1(self):\n",
    "        print(\"This function is in parent class.\")\n",
    " \n",
    " \n",
    "class Child1(Parent):\n",
    "    def func2(self):\n",
    "        print(\"This function is in child 1.\")\n",
    " \n",
    " class Child2(Parent):\n",
    "    def func3(self):\n",
    "        print(\"This function is in child 2.\")\n",
    " \n",
    " \n",
    "\n",
    "object1 = Child1()\n",
    "object2 = Child2()\n",
    "object1.func1()\n",
    "object1.func2()\n",
    "object2.func1()\n",
    "object2.func3()\n",
    "\n",
    "# Example of hybrid inheritance \n",
    "\n",
    "class School:\n",
    "    def func1(self):\n",
    "        print(\"This function is in school.\")\n",
    "\n",
    "\n",
    "class Student1(School):\n",
    "    def func2(self):\n",
    "        print(\"This function is in student 1. \")\n",
    "\n",
    "\n",
    "class Student2(School):\n",
    "    def func3(self):\n",
    "        print(\"This function is in student 2.\")\n",
    "\n",
    "\n",
    "class Student3(Student1, School):\n",
    "    def func4(self):\n",
    "        print(\"This function is in student 3.\")\n",
    "object = Student3()\n",
    "object.func1()\n",
    "object.func2()\n",
    "\n",
    "\n",
    "# Example of multilevel inheritance \n",
    "\n",
    "class Employees(): \n",
    "    def Name(self): \n",
    "        print \"Employee Name: Khush\"\n",
    " \n",
    "class salary(Employees):\n",
    "   def Salary(self):\n",
    "       print \"Salary: 10000\"\n",
    " \n",
    "class Designation(salary):\n",
    "   def desig(self):\n",
    "       print \"Designation: Test Engineer\"\n",
    " \n",
    "call = Designation()\n",
    "call.Name()\n",
    "call.Salary()\n",
    "call.desig()\n",
    "\n"
   ]
  },
  {
   "cell_type": "code",
   "execution_count": null,
   "id": "2616c895-b487-4beb-88a6-82222d622f35",
   "metadata": {},
   "outputs": [],
   "source": []
  },
  {
   "cell_type": "code",
   "execution_count": null,
   "id": "907bb908-7bcf-4073-b57a-e94211fb09a2",
   "metadata": {},
   "outputs": [],
   "source": []
  }
 ],
 "metadata": {
  "kernelspec": {
   "display_name": "Python 3 (ipykernel)",
   "language": "python",
   "name": "python3"
  },
  "language_info": {
   "codemirror_mode": {
    "name": "ipython",
    "version": 3
   },
   "file_extension": ".py",
   "mimetype": "text/x-python",
   "name": "python",
   "nbconvert_exporter": "python",
   "pygments_lexer": "ipython3",
   "version": "3.10.8"
  }
 },
 "nbformat": 4,
 "nbformat_minor": 5
}
